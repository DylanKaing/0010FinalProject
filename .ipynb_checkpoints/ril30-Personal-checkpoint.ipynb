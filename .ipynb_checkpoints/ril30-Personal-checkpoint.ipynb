{
 "cells": [
  {
   "cell_type": "markdown",
   "metadata": {},
   "source": [
    "***Introduction***: \n",
    "    In this project, I am looking for the best neighborhood in Pittsburgh. By using data sets, we will analyze different criterias from 3 different datasets to show subjectively which is the \"best\" neighborhood in Pittsburgh. For me, i am using the 2020 Census Redistricting Data and specifically using the  City of Pittsburgh Neighborhood Population 2020. My metric that I came up with is DIVERISTY. I believe the more diverse the population, the btter the neighborhood.\n",
    "    \n",
    "    \n",
    "The Metric: Describe your metric, what features are you measuring. What datasets are you using?\n",
    "The Best Neighborhood: Apply the metric from the previous section to determine the best neighborhood in Pittsburgh. Beyond just executing code, provide a narrative about why you think this is the best neighborhood. Incorporate a data visualization, perhaps to rank all of the neighborhoods or show a neighborhood’s best-ness over time. The key is to make a data driven argument.\n",
    "Conclusion: Reflect on how the data driven determination of “best neighborhood” is the same or different from your personal favorite neighborhood. Each member of the group should write their own response to this."
   ]
  },
  {
   "cell_type": "markdown",
   "metadata": {},
   "source": [
    "***The Metric***: My metric is based on population of the people of color. I am using population based on race in each neighborhood. I am using City of Pittsburgh Neighborhood Population 2020."
   ]
  },
  {
   "cell_type": "code",
   "execution_count": null,
   "metadata": {},
   "outputs": [],
   "source": []
  }
 ],
 "metadata": {
  "kernelspec": {
   "display_name": "Python 3",
   "language": "python",
   "name": "python3"
  },
  "language_info": {
   "codemirror_mode": {
    "name": "ipython",
    "version": 3
   },
   "file_extension": ".py",
   "mimetype": "text/x-python",
   "name": "python",
   "nbconvert_exporter": "python",
   "pygments_lexer": "ipython3",
   "version": "3.8.3"
  }
 },
 "nbformat": 4,
 "nbformat_minor": 4
}
